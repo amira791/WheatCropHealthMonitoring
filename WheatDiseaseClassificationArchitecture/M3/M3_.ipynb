{
 "cells": [
  {
   "cell_type": "markdown",
   "id": "191bfa43",
   "metadata": {},
   "source": [
    "# Model 03"
   ]
  },
  {
   "cell_type": "markdown",
   "id": "317f6b8c-c66a-4720-890d-469aa3a6e2c4",
   "metadata": {},
   "source": [
    "### Model 3: Multi-Class Classification for Rust Diseases  \n",
    "\n",
    "Model 3 (M3) is a multi-class classification model specialized in identifying different types of **rust diseases** affecting wheat. It categorizes the disease into four classes:  \n",
    "\n",
    "- **Brown Rust** 🍂  \n",
    "- **Yellow Rust** 🌾🟡  \n",
    "- **Stem Rust** 🌿  \n",
    "- **Mildew** 🍃  \n",
    "\n",
    "This model enhances disease diagnosis by distinguishing between these rust variations, enabling more precise treatment and management strategies.\n"
   ]
  },
  {
   "cell_type": "code",
   "execution_count": 29,
   "id": "b849b870",
   "metadata": {},
   "outputs": [],
   "source": [
    "import torch\n",
    "import torch.nn as nn\n",
    "import torch.optim as optim\n",
    "import torchvision.transforms as transforms\n",
    "import torchvision.models as models\n",
    "from torch.utils.data import DataLoader, Dataset\n",
    "from PIL import Image\n",
    "import os\n",
    "import random\n",
    "import matplotlib.pyplot as plt\n",
    "import seaborn as sns\n",
    "from sklearn.metrics import confusion_matrix, classification_report\n",
    "import numpy as np"
   ]
  },
  {
   "cell_type": "code",
   "execution_count": 30,
   "id": "eda5d88e",
   "metadata": {},
   "outputs": [],
   "source": [
    "# Define Dataset Class\n",
    "class WheatDataset(Dataset):\n",
    "    def __init__(self, image_paths, labels, transform=None):\n",
    "        self.image_paths = image_paths\n",
    "        self.labels = labels\n",
    "        self.transform = transform\n",
    "\n",
    "    def __len__(self):\n",
    "        return len(self.image_paths)\n",
    "\n",
    "    def __getitem__(self, idx):\n",
    "        img_path = self.image_paths[idx]\n",
    "        image = Image.open(img_path).convert(\"RGB\")\n",
    "        label = self.labels[idx]\n",
    "\n",
    "        if self.transform:\n",
    "            image = self.transform(image)\n",
    "\n",
    "        return image, label"
   ]
  },
  {
   "cell_type": "code",
   "execution_count": 31,
   "id": "ed1400b6",
   "metadata": {},
   "outputs": [],
   "source": [
    "# Data Preprocessing\n",
    "transform = transforms.Compose([\n",
    "    transforms.Resize((224, 224)),\n",
    "    transforms.RandomHorizontalFlip(),\n",
    "    transforms.RandomRotation(10),\n",
    "    transforms.ToTensor(),\n",
    "    transforms.Normalize(mean=[0.485, 0.456, 0.406], std=[0.229, 0.224, 0.225])\n",
    "])"
   ]
  },
  {
   "cell_type": "code",
   "execution_count": 32,
   "id": "0d5b7799",
   "metadata": {},
   "outputs": [],
   "source": [
    "# Load Dataset and Split into Train/Test\n",
    "def load_data(data_dir, train_split=0.8):\n",
    "    \"\"\"\n",
    "    Load dataset and split into train and test.\n",
    "    :param data_dir: Path to dataset where folders represent classes.\n",
    "    :param train_split: Ratio of training data (default: 80% train, 20% test).\n",
    "    :return: Train and test datasets.\n",
    "    \"\"\"\n",
    "    classes = sorted(os.listdir(data_dir))  # Get class names\n",
    "    image_paths = []\n",
    "    labels = []\n",
    "    class_to_idx = {cls: idx for idx, cls in enumerate(classes)}\n",
    "\n",
    "    for cls in classes:\n",
    "        class_path = os.path.join(data_dir, cls)\n",
    "        if not os.path.isdir(class_path):\n",
    "            continue  # Skip non-directory files\n",
    "        for img_name in os.listdir(class_path):\n",
    "            img_path = os.path.join(class_path, img_name)\n",
    "            image_paths.append(img_path)\n",
    "            labels.append(class_to_idx[cls])\n",
    "\n",
    "    # Shuffle the dataset\n",
    "    dataset = list(zip(image_paths, labels))\n",
    "    random.shuffle(dataset)\n",
    "    image_paths, labels = zip(*dataset)\n",
    "\n",
    "    # Split into train and test\n",
    "    train_size = int(train_split * len(image_paths))\n",
    "    train_images, test_images = image_paths[:train_size], image_paths[train_size:]\n",
    "    train_labels, test_labels = labels[:train_size], labels[train_size:]\n",
    "\n",
    "    return train_images, train_labels, test_images, test_labels, class_to_idx\n"
   ]
  },
  {
   "cell_type": "code",
   "execution_count": 33,
   "id": "5b676e93",
   "metadata": {},
   "outputs": [],
   "source": [
    "# Load Data\n",
    "dataset_path = \"./D3_Final\"  # Update this with your dataset path\n",
    "train_images, train_labels, test_images, test_labels, class_to_idx = load_data(dataset_path)\n",
    "\n",
    "train_dataset = WheatDataset(train_images, train_labels, transform=transform)\n",
    "test_dataset = WheatDataset(test_images, test_labels, transform=transform)\n",
    "\n",
    "train_loader = DataLoader(train_dataset, batch_size=16, shuffle=True)\n",
    "test_loader = DataLoader(test_dataset, batch_size=16, shuffle=False)\n"
   ]
  },
  {
   "cell_type": "code",
   "execution_count": 34,
   "id": "014db83b",
   "metadata": {},
   "outputs": [],
   "source": [
    "# Feature Extractor (EfficientNet)\n",
    "class FeatureExtractor(nn.Module):\n",
    "    def __init__(self):\n",
    "        super(FeatureExtractor, self).__init__()\n",
    "        self.efficient_net = models.efficientnet_b0(pretrained=True)\n",
    "        self.efficient_net.classifier = nn.Identity()  # Remove last layer\n",
    "\n",
    "    def forward(self, x):\n",
    "        return self.efficient_net(x)\n"
   ]
  },
  {
   "cell_type": "code",
   "execution_count": 35,
   "id": "1ea8dec6",
   "metadata": {},
   "outputs": [],
   "source": [
    "class AttentionModule(nn.Module):\n",
    "    def __init__(self, feature_dim):\n",
    "        super(AttentionModule, self).__init__()\n",
    "        self.W1 = nn.Linear(feature_dim, feature_dim)\n",
    "        self.W2 = nn.Linear(feature_dim, feature_dim)\n",
    "        self.omega_x = nn.Parameter(torch.rand(feature_dim))\n",
    "        self.omega_y = nn.Parameter(torch.rand(feature_dim))\n",
    "        self.omega_xy = nn.Parameter(torch.rand(feature_dim))\n",
    "\n",
    "    def forward(self, support, query):\n",
    "        s = torch.relu(self.W1(support))\n",
    "        q = torch.relu(self.W2(query))\n",
    "        similarity = torch.sum(self.omega_x * s + self.omega_y * q + self.omega_xy * (s * q), dim=-1)\n",
    "\n",
    "        # Ensure output matches EfficientNet feature size (1280)\n",
    "        output = torch.relu(self.W1(support) + self.W2(query))\n",
    "        return output  # Output must be (batch_size, 1280)\n"
   ]
  },
  {
   "cell_type": "code",
   "execution_count": 36,
   "id": "562a5e99",
   "metadata": {},
   "outputs": [],
   "source": [
    "# Few-Shot Learning Network\n",
    "class FewShotNetwork(nn.Module):\n",
    "    def __init__(self, feature_dim=1280, num_classes=4):\n",
    "        super(FewShotNetwork, self).__init__()\n",
    "        self.feature_extractor = FeatureExtractor()\n",
    "        self.attention = AttentionModule(feature_dim)\n",
    "        self.fc = nn.Linear(feature_dim, num_classes)\n",
    "\n",
    "    def forward(self, support, query):\n",
    "        support_features = self.feature_extractor(support)\n",
    "        query_features = self.feature_extractor(query)\n",
    "        similarity = self.attention(support_features, query_features)\n",
    "        output = self.fc(similarity)\n",
    "        return output\n"
   ]
  },
  {
   "cell_type": "code",
   "execution_count": 37,
   "id": "5374d5d6",
   "metadata": {},
   "outputs": [
    {
     "name": "stderr",
     "output_type": "stream",
     "text": [
      "c:\\Users\\DELL\\Documents\\PFE\\M3\\venv\\Lib\\site-packages\\torchvision\\models\\_utils.py:208: UserWarning: The parameter 'pretrained' is deprecated since 0.13 and may be removed in the future, please use 'weights' instead.\n",
      "  warnings.warn(\n",
      "c:\\Users\\DELL\\Documents\\PFE\\M3\\venv\\Lib\\site-packages\\torchvision\\models\\_utils.py:223: UserWarning: Arguments other than a weight enum or `None` for 'weights' are deprecated since 0.13 and may be removed in the future. The current behavior is equivalent to passing `weights=EfficientNet_B0_Weights.IMAGENET1K_V1`. You can also use `weights=EfficientNet_B0_Weights.DEFAULT` to get the most up-to-date weights.\n",
      "  warnings.warn(msg)\n"
     ]
    }
   ],
   "source": [
    "# Model Training\n",
    "device = torch.device(\"cuda\" if torch.cuda.is_available() else \"cpu\")\n",
    "model = FewShotNetwork().to(device)\n",
    "criterion = nn.CrossEntropyLoss()\n",
    "optimizer = optim.Adam(model.parameters(), lr=0.0001, weight_decay=1e-5)\n",
    "scheduler = torch.optim.lr_scheduler.StepLR(optimizer, step_size=5, gamma=0.5)\n",
    "\n"
   ]
  },
  {
   "cell_type": "code",
   "execution_count": 38,
   "id": "27ad31b1",
   "metadata": {},
   "outputs": [
    {
     "name": "stdout",
     "output_type": "stream",
     "text": [
      "Epoch [1/20], Loss: 0.4845\n",
      "Epoch [2/20], Loss: 0.1380\n",
      "Epoch [3/20], Loss: 0.0812\n",
      "Epoch [4/20], Loss: 0.0511\n",
      "Epoch [5/20], Loss: 0.0571\n",
      "Epoch [6/20], Loss: 0.0466\n",
      "Epoch [7/20], Loss: 0.0165\n",
      "Epoch [8/20], Loss: 0.0371\n",
      "Epoch [9/20], Loss: 0.0271\n",
      "Epoch [10/20], Loss: 0.0271\n",
      "Epoch [11/20], Loss: 0.0370\n",
      "Epoch [12/20], Loss: 0.0202\n",
      "Epoch [13/20], Loss: 0.0223\n",
      "Epoch [14/20], Loss: 0.0350\n",
      "Epoch [15/20], Loss: 0.0196\n",
      "Epoch [16/20], Loss: 0.0063\n",
      "Epoch [17/20], Loss: 0.0081\n",
      "Epoch [18/20], Loss: 0.0751\n",
      "Epoch [19/20], Loss: 0.0244\n",
      "Epoch [20/20], Loss: 0.0198\n"
     ]
    }
   ],
   "source": [
    "# Training Loop\n",
    "def train_model(model, train_loader, num_epochs=20):\n",
    "    model.train()\n",
    "    for epoch in range(num_epochs):\n",
    "        total_loss = 0\n",
    "        for images, labels in train_loader:\n",
    "            images, labels = images.to(device), labels.to(device)\n",
    "\n",
    "            optimizer.zero_grad()\n",
    "            outputs = model(images, images)  # Support and Query Set (same for now)\n",
    "            loss = criterion(outputs, labels)\n",
    "            loss.backward()\n",
    "            optimizer.step()\n",
    "\n",
    "            total_loss += loss.item()\n",
    "\n",
    "        print(f\"Epoch [{epoch+1}/{num_epochs}], Loss: {total_loss / len(train_loader):.4f}\")\n",
    "\n",
    "train_model(model, train_loader)\n",
    "\n"
   ]
  },
  {
   "cell_type": "code",
   "execution_count": 42,
   "id": "d25b0e39",
   "metadata": {},
   "outputs": [
    {
     "name": "stdout",
     "output_type": "stream",
     "text": [
      "Test Accuracy: 98.30%\n"
     ]
    }
   ],
   "source": [
    "# Model Evaluation\n",
    "def evaluate_model(model, test_loader):\n",
    "    model.eval()\n",
    "    correct = 0\n",
    "    total = 0\n",
    "    with torch.no_grad():\n",
    "        for images, labels in test_loader:\n",
    "            images, labels = images.to(device), labels.to(device)\n",
    "\n",
    "            outputs = model(images, images)\n",
    "            _, predicted = torch.max(outputs, 1)\n",
    "            correct += (predicted == labels).sum().item()\n",
    "            total += labels.size(0)\n",
    "\n",
    "    accuracy = 100 * correct / total\n",
    "    print(f\"Test Accuracy: {accuracy:.2f}%\")\n",
    "\n",
    "evaluate_model(model, test_loader)"
   ]
  },
  {
   "cell_type": "code",
   "execution_count": 45,
   "id": "538524e5",
   "metadata": {},
   "outputs": [
    {
     "name": "stdout",
     "output_type": "stream",
     "text": [
      "Test Accuracy: 98.30%\n"
     ]
    },
    {
     "data": {
      "image/png": "[encoded data removed]",
      "text/plain": [
       "<Figure size 800x600 with 2 Axes>"
      ]
     },
     "metadata": {},
     "output_type": "display_data"
    }
   ],
   "source": [
    "def evaluate_model(model, test_loader):\n",
    "    model.eval()\n",
    "    correct = 0\n",
    "    total = 0\n",
    "    all_labels = []\n",
    "    all_predictions = []\n",
    "\n",
    "    with torch.no_grad():\n",
    "        for images, labels in test_loader:\n",
    "            images, labels = images.to(device), labels.to(device)\n",
    "\n",
    "            # Pass two inputs if required\n",
    "            outputs = model(images, images)  # Check if this matches your model's expected inputs\n",
    "            _, predicted = torch.max(outputs, 1)\n",
    "\n",
    "            correct += (predicted == labels).sum().item()\n",
    "            total += labels.size(0)\n",
    "\n",
    "            all_labels.extend(labels.cpu().numpy())\n",
    "            all_predictions.extend(predicted.cpu().numpy())\n",
    "\n",
    "    accuracy = 100 * correct / total\n",
    "    print(f\"Test Accuracy: {accuracy:.2f}%\")\n",
    "\n",
    "    # Compute and display confusion matrix\n",
    "    cm = confusion_matrix(all_labels, all_predictions)\n",
    "    plt.figure(figsize=(8, 6))\n",
    "    sns.heatmap(cm, annot=True, fmt='d', cmap='Blues')\n",
    "    plt.xlabel(\"Predicted Label\")\n",
    "    plt.ylabel(\"True Label\")\n",
    "    plt.title(\"Confusion Matrix\")\n",
    "    plt.show()\n",
    "\n",
    "# Call function\n",
    "evaluate_model(model, test_loader)\n"
   ]
  },
  {
   "cell_type": "code",
   "execution_count": 46,
   "id": "fb75e3b5",
   "metadata": {},
   "outputs": [
    {
     "name": "stdout",
     "output_type": "stream",
     "text": [
      "Classe prédite : Yellow-rust\n"
     ]
    }
   ],
   "source": [
    "import torch\n",
    "import torchvision.transforms as transforms\n",
    "from PIL import Image\n",
    "\n",
    "# Charger l'image\n",
    "image_path = \"test.jpg\"\n",
    "image = Image.open(image_path).convert(\"RGB\")\n",
    "\n",
    "# Définir les transformations (adaptées à votre modèle)\n",
    "transform = transforms.Compose([\n",
    "    transforms.Resize((224, 224)),  # Adapter à la taille d'entrée du modèle\n",
    "    transforms.ToTensor(),\n",
    "    transforms.Normalize(mean=[0.5, 0.5, 0.5], std=[0.5, 0.5, 0.5])  # Normalisation (ajuster selon votre modèle)\n",
    "])\n",
    "\n",
    "# Appliquer les transformations\n",
    "image = transform(image)\n",
    "image = image.unsqueeze(0)  # Ajouter une dimension batch\n",
    "\n",
    "# Déplacer l'image vers l'appareil (GPU si disponible)\n",
    "device = torch.device(\"cuda\" if torch.cuda.is_available() else \"cpu\")\n",
    "image = image.to(device)\n",
    "\n",
    "# Charger le modèle (s'assurer qu'il est en mode évaluation)\n",
    "model.to(device)\n",
    "model.eval()\n",
    "\n",
    "# Prédiction\n",
    "with torch.no_grad():\n",
    "    output = model(image, image)  # ⚠️ Vérifiez si votre modèle prend deux entrées\n",
    "    _, predicted = torch.max(output, 1)\n",
    "\n",
    "# Liste des classes (modifier selon vos classes)\n",
    "class_names = [\"Brown-rust\", \"Pawdery_mildew\",\"Stem-rust\", \"Yellow-rust\"]\n",
    "predicted_class = class_names[predicted.item()]\n",
    "\n",
    "print(f\"Classe prédite : {predicted_class}\")\n"
   ]
  },
  {
   "cell_type": "code",
   "execution_count": 83,
   "id": "04683033",
   "metadata": {},
   "outputs": [
    {
     "name": "stdout",
     "output_type": "stream",
     "text": [
      "Modèle sauvegardé sous 'RustClassification.pth'\n"
     ]
    }
   ],
   "source": [
    "torch.save(model.state_dict(), \"RustClassification.pth\")\n",
    "print(\"Modèle sauvegardé sous 'RustClassification.pth'\")\n",
    "# this model achaive 99,54% accuracy on the test set (yellow-rust, stem-rust,brown-rust)"
   ]
  }
 ],
 "metadata": {
  "kernelspec": {
   "display_name": "Python 3 (ipykernel)",
   "language": "python",
   "name": "python3"
  },
  "language_info": {
   "codemirror_mode": {
    "name": "ipython",
    "version": 3
   },
   "file_extension": ".py",
   "mimetype": "text/x-python",
   "name": "python",
   "nbconvert_exporter": "python",
   "pygments_lexer": "ipython3",
   "version": "3.11.0"
  }
 },
 "nbformat": 4,
 "nbformat_minor": 5
}
