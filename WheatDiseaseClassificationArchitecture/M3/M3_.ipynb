{
 "cells": [
  {
   "cell_type": "code",
   "execution_count": null,
   "id": "bff82e96-1517-46b2-83d0-6d62836943fe",
   "metadata": {},
   "outputs": [],
   "source": []
  },
  {
   "cell_type": "code",
   "execution_count": null,
   "id": "1fce2f9b-2bf2-45dd-be49-3a8684eb9831",
   "metadata": {},
   "outputs": [],
   "source": []
  },
  {
   "cell_type": "code",
   "execution_count": 1,
   "id": "80cb292e-c547-499e-8b05-4bc0b085e55b",
   "metadata": {},
   "outputs": [
    {
     "name": "stdout",
     "output_type": "stream",
     "text": [
      "Class distribution in the dataset:\n",
      "Brown: 902 images\n",
      "Mildew: 487 images\n",
      "Stem: 356 images\n",
      "Yellow: 936 images\n",
      "\n",
      "Train set: 2245 images\n",
      "Validation set: 748 images\n",
      "Test set: 749 images\n",
      "\n",
      "Data generators are ready for training, validation, and testing.\n"
     ]
    }
   ],
   "source": [
    "# Import necessary libraries\n",
    "import os\n",
    "import numpy as np\n",
    "import tensorflow as tf\n",
    "from sklearn.model_selection import train_test_split\n",
    "from tensorflow.keras.preprocessing.image import ImageDataGenerator\n",
    "from imblearn.combine import SMOTETomek\n",
    "from tensorflow.keras.preprocessing import image\n",
    "from collections import Counter\n",
    "from sklearn.ensemble import VotingClassifier\n",
    "from sklearn.svm import SVC\n",
    "from sklearn.ensemble import RandomForestClassifier\n",
    "from sklearn.metrics import accuracy_score, confusion_matrix\n",
    "import matplotlib.pyplot as plt\n",
    "import seaborn as sns\n",
    "\n",
    "# Set dataset paths\n",
    "DATASET_PATH = r\"C:\\Users\\VECTUS\\OneDrive\\Desktop\\Imp\\D03\"  # Change this to your dataset directory\n",
    "IMG_SIZE = (224, 224)  # Standard size for CNNs (EfficientNet, ResNet)\n",
    "BATCH_SIZE = 32\n",
    "\n",
    "# Function to load images and labels from directory\n",
    "def load_dataset(dataset_path, img_size):\n",
    "    images = []\n",
    "    labels = []\n",
    "    class_names = sorted(os.listdir(dataset_path))\n",
    "    class_counts = {class_name: 0 for class_name in class_names}  # To count images per class\n",
    "    \n",
    "    for class_name in class_names:\n",
    "        class_path = os.path.join(dataset_path, class_name)\n",
    "        for img_name in os.listdir(class_path):\n",
    "            img_path = os.path.join(class_path, img_name)\n",
    "            img = image.load_img(img_path, target_size=img_size)\n",
    "            img_array = image.img_to_array(img)\n",
    "            images.append(img_array)\n",
    "            labels.append(class_names.index(class_name))\n",
    "            class_counts[class_name] += 1  # Increment count for this class\n",
    "    \n",
    "    return np.array(images), np.array(labels), class_names, class_counts\n",
    "\n",
    "# Load the dataset\n",
    "X_data, y_data, class_names, class_counts = load_dataset(DATASET_PATH, IMG_SIZE)\n",
    "\n",
    "# Display class names and number of images in each class\n",
    "print(\"Class distribution in the dataset:\")\n",
    "for class_name, count in class_counts.items():\n",
    "    print(f\"{class_name}: {count} images\")\n",
    "\n",
    "# Apply SMOTE and Tomek Links for balancing\n",
    "smote_tomek = SMOTETomek(random_state=42)\n",
    "X_balanced, y_balanced = smote_tomek.fit_resample(X_data.reshape(X_data.shape[0], -1), y_data)\n",
    "X_balanced = X_balanced.reshape(-1, IMG_SIZE[0], IMG_SIZE[1], 3)\n",
    "\n",
    "# Split the balanced data into train, validation, and test sets\n",
    "X_train, X_temp, y_train, y_temp = train_test_split(X_balanced, y_balanced, train_size=0.6, random_state=42)\n",
    "X_val, X_test, y_val, y_test = train_test_split(X_temp, y_temp, test_size=0.5, random_state=42)\n",
    "\n",
    "print(f\"\\nTrain set: {len(X_train)} images\")\n",
    "print(f\"Validation set: {len(X_val)} images\")\n",
    "print(f\"Test set: {len(X_test)} images\")\n",
    "\n",
    "# Create new ImageDataGenerators for training, validation, and testing with the respective data\n",
    "train_datagen = ImageDataGenerator(rescale=1.0 / 255)\n",
    "val_datagen = ImageDataGenerator(rescale=1.0 / 255)\n",
    "test_datagen = ImageDataGenerator(rescale=1.0 / 255)\n",
    "\n",
    "# Use the `flow` method to load the data into the generator\n",
    "train_generator = train_datagen.flow(X_train, y_train, batch_size=BATCH_SIZE)\n",
    "val_generator = val_datagen.flow(X_val, y_val, batch_size=BATCH_SIZE)\n",
    "test_generator = test_datagen.flow(X_test, y_test, batch_size=BATCH_SIZE)\n",
    "\n",
    "print(\"\\nData generators are ready for training, validation, and testing.\")\n"
   ]
  },
  {
   "cell_type": "code",
   "execution_count": 2,
   "id": "46d98f5f-e0b2-4502-835d-5458f5e334c8",
   "metadata": {},
   "outputs": [
    {
     "name": "stdout",
     "output_type": "stream",
     "text": [
      "\n",
      "Extracting features for the train set...\n",
      "\u001b[1m71/71\u001b[0m \u001b[32m━━━━━━━━━━━━━━━━━━━━\u001b[0m\u001b[37m\u001b[0m \u001b[1m28s\u001b[0m 358ms/step\n",
      "Extracting features for the validation set...\n",
      "\u001b[1m24/24\u001b[0m \u001b[32m━━━━━━━━━━━━━━━━━━━━\u001b[0m\u001b[37m\u001b[0m \u001b[1m8s\u001b[0m 334ms/step\n",
      "Extracting features for the test set...\n",
      "\u001b[1m24/24\u001b[0m \u001b[32m━━━━━━━━━━━━━━━━━━━━\u001b[0m\u001b[37m\u001b[0m \u001b[1m8s\u001b[0m 321ms/step\n"
     ]
    }
   ],
   "source": [
    "# Function to extract features using a pre-trained model\n",
    "from tensorflow.keras.applications import EfficientNetB0\n",
    "from tensorflow.keras.models import Model\n",
    "\n",
    "def extract_features(images, model):\n",
    "    \"\"\"\n",
    "    Extract features from images using a pre-trained model.\n",
    "    :param images: Input images (numpy array).\n",
    "    :param model: Pre-trained model for feature extraction.\n",
    "    :return: Extracted features (numpy array).\n",
    "    \"\"\"\n",
    "    features = model.predict(images, verbose=1)\n",
    "    return features\n",
    "\n",
    "# Load a pre-trained model (EfficientNetB0) without the top classification layer\n",
    "base_model = EfficientNetB0(weights='imagenet', include_top=False, pooling='avg')\n",
    "\n",
    "# Extract features for train, validation, and test sets\n",
    "print(\"\\nExtracting features for the train set...\")\n",
    "X_train_features = extract_features(X_train, base_model)\n",
    "\n",
    "print(\"Extracting features for the validation set...\")\n",
    "X_val_features = extract_features(X_val, base_model)\n",
    "\n",
    "print(\"Extracting features for the test set...\")\n",
    "X_test_features = extract_features(X_test, base_model)\n"
   ]
  },
  {
   "cell_type": "code",
   "execution_count": 3,
   "id": "1073c3ce-2c55-477f-b215-e32e4fc69d82",
   "metadata": {},
   "outputs": [],
   "source": [
    "# Define the Self-Attention Mechanism\n",
    "from tensorflow.keras.layers import Layer, Dense, Multiply, Activation\n",
    "\n",
    "\n",
    "# Build the Model with Attention\n",
    "from tensorflow.keras.layers import Dense, Dropout\n",
    "from tensorflow.keras.models import Sequential\n",
    "\n",
    "def build_model_with_attention(input_shape, num_classes):\n",
    "    model = Sequential()\n",
    "    \n",
    "    # Add the Self-Attention layer\n",
    "    model.add(SelfAttention(units=128))\n",
    "    \n",
    "    # Add a Dense layer\n",
    "    model.add(Dense(256, activation='relu'))\n",
    "    model.add(Dropout(0.5))\n",
    "    \n",
    "    # Output layer\n",
    "    model.add(Dense(num_classes, activation='softmax'))\n",
    "    \n",
    "    return model\n"
   ]
  },
  {
   "cell_type": "code",
   "execution_count": 4,
   "id": "cffd6ba3-4fdf-47ee-9926-c224bead4377",
   "metadata": {},
   "outputs": [],
   "source": [
    "class SelfAttention(Layer):\n",
    "    def __init__(self, units):\n",
    "        super(SelfAttention, self).__init__()\n",
    "        self.units = units\n",
    "\n",
    "    def build(self, input_shape):\n",
    "        self.W = self.add_weight(shape=(input_shape[-1], self.units),\n",
    "                                 initializer='glorot_uniform',\n",
    "                                 trainable=True)\n",
    "        self.b = self.add_weight(shape=(self.units,),\n",
    "                                 initializer='zeros',\n",
    "                                 trainable=True)\n",
    "        self.V = self.add_weight(shape=(self.units, 1),\n",
    "                                 initializer='glorot_uniform',\n",
    "                                 trainable=True)\n",
    "\n",
    "    def call(self, inputs):\n",
    "        # Compute attention scores\n",
    "        score = tf.nn.tanh(tf.matmul(inputs, self.W) + self.b)\n",
    "        attention_weights = tf.nn.softmax(tf.matmul(score, self.V), axis=1)\n",
    "        \n",
    "        # Apply attention weights to the input\n",
    "        context_vector = attention_weights * inputs\n",
    "        return context_vector\n"
   ]
  },
  {
   "cell_type": "code",
   "execution_count": 5,
   "id": "6a0f780f-b3b9-4740-8871-b89cd1d60664",
   "metadata": {},
   "outputs": [
    {
     "name": "stdout",
     "output_type": "stream",
     "text": [
      "Epoch 1/30\n",
      "WARNING:tensorflow:From C:\\Users\\VECTUS\\AppData\\Local\\Programs\\Python\\Python311\\Lib\\site-packages\\keras\\src\\backend\\tensorflow\\core.py:216: The name tf.placeholder is deprecated. Please use tf.compat.v1.placeholder instead.\n",
      "\n",
      "\u001b[1m71/71\u001b[0m \u001b[32m━━━━━━━━━━━━━━━━━━━━\u001b[0m\u001b[37m\u001b[0m \u001b[1m6s\u001b[0m 10ms/step - accuracy: 0.6951 - loss: 0.7537 - val_accuracy: 0.9505 - val_loss: 0.1623\n",
      "Epoch 2/30\n",
      "\u001b[1m71/71\u001b[0m \u001b[32m━━━━━━━━━━━━━━━━━━━━\u001b[0m\u001b[37m\u001b[0m \u001b[1m0s\u001b[0m 6ms/step - accuracy: 0.9268 - loss: 0.2079 - val_accuracy: 0.9626 - val_loss: 0.1115\n",
      "Epoch 3/30\n",
      "\u001b[1m71/71\u001b[0m \u001b[32m━━━━━━━━━━━━━━━━━━━━\u001b[0m\u001b[37m\u001b[0m \u001b[1m0s\u001b[0m 6ms/step - accuracy: 0.9658 - loss: 0.1189 - val_accuracy: 0.9679 - val_loss: 0.0831\n",
      "Epoch 4/30\n",
      "\u001b[1m71/71\u001b[0m \u001b[32m━━━━━━━━━━━━━━━━━━━━\u001b[0m\u001b[37m\u001b[0m \u001b[1m0s\u001b[0m 5ms/step - accuracy: 0.9720 - loss: 0.0797 - val_accuracy: 0.9746 - val_loss: 0.0686\n",
      "Epoch 5/30\n",
      "\u001b[1m71/71\u001b[0m \u001b[32m━━━━━━━━━━━━━━━━━━━━\u001b[0m\u001b[37m\u001b[0m \u001b[1m0s\u001b[0m 5ms/step - accuracy: 0.9844 - loss: 0.0624 - val_accuracy: 0.9746 - val_loss: 0.0623\n",
      "Epoch 6/30\n",
      "\u001b[1m71/71\u001b[0m \u001b[32m━━━━━━━━━━━━━━━━━━━━\u001b[0m\u001b[37m\u001b[0m \u001b[1m0s\u001b[0m 5ms/step - accuracy: 0.9942 - loss: 0.0366 - val_accuracy: 0.9813 - val_loss: 0.0627\n",
      "Epoch 7/30\n",
      "\u001b[1m71/71\u001b[0m \u001b[32m━━━━━━━━━━━━━━━━━━━━\u001b[0m\u001b[37m\u001b[0m \u001b[1m0s\u001b[0m 5ms/step - accuracy: 0.9949 - loss: 0.0294 - val_accuracy: 0.9786 - val_loss: 0.0575\n",
      "Epoch 8/30\n",
      "\u001b[1m71/71\u001b[0m \u001b[32m━━━━━━━━━━━━━━━━━━━━\u001b[0m\u001b[37m\u001b[0m \u001b[1m0s\u001b[0m 6ms/step - accuracy: 0.9976 - loss: 0.0229 - val_accuracy: 0.9840 - val_loss: 0.0542\n",
      "Epoch 9/30\n",
      "\u001b[1m71/71\u001b[0m \u001b[32m━━━━━━━━━━━━━━━━━━━━\u001b[0m\u001b[37m\u001b[0m \u001b[1m0s\u001b[0m 6ms/step - accuracy: 0.9945 - loss: 0.0187 - val_accuracy: 0.9826 - val_loss: 0.0525\n",
      "Epoch 10/30\n",
      "\u001b[1m71/71\u001b[0m \u001b[32m━━━━━━━━━━━━━━━━━━━━\u001b[0m\u001b[37m\u001b[0m \u001b[1m0s\u001b[0m 5ms/step - accuracy: 0.9980 - loss: 0.0148 - val_accuracy: 0.9826 - val_loss: 0.0545\n",
      "Epoch 11/30\n",
      "\u001b[1m71/71\u001b[0m \u001b[32m━━━━━━━━━━━━━━━━━━━━\u001b[0m\u001b[37m\u001b[0m \u001b[1m0s\u001b[0m 5ms/step - accuracy: 0.9989 - loss: 0.0099 - val_accuracy: 0.9799 - val_loss: 0.0578\n",
      "Epoch 12/30\n",
      "\u001b[1m71/71\u001b[0m \u001b[32m━━━━━━━━━━━━━━━━━━━━\u001b[0m\u001b[37m\u001b[0m \u001b[1m0s\u001b[0m 6ms/step - accuracy: 0.9988 - loss: 0.0097 - val_accuracy: 0.9853 - val_loss: 0.0502\n",
      "Epoch 13/30\n",
      "\u001b[1m71/71\u001b[0m \u001b[32m━━━━━━━━━━━━━━━━━━━━\u001b[0m\u001b[37m\u001b[0m \u001b[1m0s\u001b[0m 5ms/step - accuracy: 0.9992 - loss: 0.0097 - val_accuracy: 0.9826 - val_loss: 0.0537\n",
      "Epoch 14/30\n",
      "\u001b[1m71/71\u001b[0m \u001b[32m━━━━━━━━━━━━━━━━━━━━\u001b[0m\u001b[37m\u001b[0m \u001b[1m0s\u001b[0m 5ms/step - accuracy: 0.9994 - loss: 0.0071 - val_accuracy: 0.9826 - val_loss: 0.0524\n",
      "Epoch 15/30\n",
      "\u001b[1m71/71\u001b[0m \u001b[32m━━━━━━━━━━━━━━━━━━━━\u001b[0m\u001b[37m\u001b[0m \u001b[1m0s\u001b[0m 5ms/step - accuracy: 0.9987 - loss: 0.0071 - val_accuracy: 0.9826 - val_loss: 0.0564\n",
      "Epoch 16/30\n",
      "\u001b[1m71/71\u001b[0m \u001b[32m━━━━━━━━━━━━━━━━━━━━\u001b[0m\u001b[37m\u001b[0m \u001b[1m0s\u001b[0m 5ms/step - accuracy: 0.9998 - loss: 0.0055 - val_accuracy: 0.9799 - val_loss: 0.0559\n",
      "Epoch 17/30\n",
      "\u001b[1m71/71\u001b[0m \u001b[32m━━━━━━━━━━━━━━━━━━━━\u001b[0m\u001b[37m\u001b[0m \u001b[1m0s\u001b[0m 5ms/step - accuracy: 0.9990 - loss: 0.0044 - val_accuracy: 0.9786 - val_loss: 0.0581\n",
      "Epoch 18/30\n",
      "\u001b[1m71/71\u001b[0m \u001b[32m━━━━━━━━━━━━━━━━━━━━\u001b[0m\u001b[37m\u001b[0m \u001b[1m0s\u001b[0m 5ms/step - accuracy: 0.9997 - loss: 0.0051 - val_accuracy: 0.9853 - val_loss: 0.0506\n",
      "Epoch 19/30\n",
      "\u001b[1m71/71\u001b[0m \u001b[32m━━━━━━━━━━━━━━━━━━━━\u001b[0m\u001b[37m\u001b[0m \u001b[1m0s\u001b[0m 5ms/step - accuracy: 0.9978 - loss: 0.0073 - val_accuracy: 0.9826 - val_loss: 0.0478\n",
      "Epoch 20/30\n",
      "\u001b[1m71/71\u001b[0m \u001b[32m━━━━━━━━━━━━━━━━━━━━\u001b[0m\u001b[37m\u001b[0m \u001b[1m0s\u001b[0m 5ms/step - accuracy: 0.9999 - loss: 0.0044 - val_accuracy: 0.9799 - val_loss: 0.0589\n",
      "Epoch 21/30\n",
      "\u001b[1m71/71\u001b[0m \u001b[32m━━━━━━━━━━━━━━━━━━━━\u001b[0m\u001b[37m\u001b[0m \u001b[1m0s\u001b[0m 5ms/step - accuracy: 0.9993 - loss: 0.0042 - val_accuracy: 0.9759 - val_loss: 0.0638\n",
      "Epoch 22/30\n",
      "\u001b[1m71/71\u001b[0m \u001b[32m━━━━━━━━━━━━━━━━━━━━\u001b[0m\u001b[37m\u001b[0m \u001b[1m0s\u001b[0m 5ms/step - accuracy: 0.9992 - loss: 0.0045 - val_accuracy: 0.9786 - val_loss: 0.0523\n",
      "Epoch 23/30\n",
      "\u001b[1m71/71\u001b[0m \u001b[32m━━━━━━━━━━━━━━━━━━━━\u001b[0m\u001b[37m\u001b[0m \u001b[1m0s\u001b[0m 5ms/step - accuracy: 0.9999 - loss: 0.0021 - val_accuracy: 0.9813 - val_loss: 0.0549\n",
      "Epoch 24/30\n",
      "\u001b[1m71/71\u001b[0m \u001b[32m━━━━━━━━━━━━━━━━━━━━\u001b[0m\u001b[37m\u001b[0m \u001b[1m0s\u001b[0m 5ms/step - accuracy: 1.0000 - loss: 0.0038 - val_accuracy: 0.9813 - val_loss: 0.0551\n",
      "Epoch 25/30\n",
      "\u001b[1m71/71\u001b[0m \u001b[32m━━━━━━━━━━━━━━━━━━━━\u001b[0m\u001b[37m\u001b[0m \u001b[1m0s\u001b[0m 5ms/step - accuracy: 1.0000 - loss: 0.0019 - val_accuracy: 0.9786 - val_loss: 0.0562\n",
      "Epoch 26/30\n",
      "\u001b[1m71/71\u001b[0m \u001b[32m━━━━━━━━━━━━━━━━━━━━\u001b[0m\u001b[37m\u001b[0m \u001b[1m0s\u001b[0m 5ms/step - accuracy: 1.0000 - loss: 0.0016 - val_accuracy: 0.9786 - val_loss: 0.0565\n",
      "Epoch 27/30\n",
      "\u001b[1m71/71\u001b[0m \u001b[32m━━━━━━━━━━━━━━━━━━━━\u001b[0m\u001b[37m\u001b[0m \u001b[1m0s\u001b[0m 5ms/step - accuracy: 1.0000 - loss: 0.0013 - val_accuracy: 0.9826 - val_loss: 0.0555\n",
      "Epoch 28/30\n",
      "\u001b[1m71/71\u001b[0m \u001b[32m━━━━━━━━━━━━━━━━━━━━\u001b[0m\u001b[37m\u001b[0m \u001b[1m0s\u001b[0m 5ms/step - accuracy: 1.0000 - loss: 0.0019 - val_accuracy: 0.9813 - val_loss: 0.0626\n",
      "Epoch 29/30\n",
      "\u001b[1m71/71\u001b[0m \u001b[32m━━━━━━━━━━━━━━━━━━━━\u001b[0m\u001b[37m\u001b[0m \u001b[1m0s\u001b[0m 5ms/step - accuracy: 1.0000 - loss: 0.0032 - val_accuracy: 0.9786 - val_loss: 0.0624\n",
      "Epoch 30/30\n",
      "\u001b[1m71/71\u001b[0m \u001b[32m━━━━━━━━━━━━━━━━━━━━\u001b[0m\u001b[37m\u001b[0m \u001b[1m0s\u001b[0m 5ms/step - accuracy: 0.9998 - loss: 0.0019 - val_accuracy: 0.9813 - val_loss: 0.0594\n"
     ]
    }
   ],
   "source": [
    "# Build the model with attention\n",
    "input_shape = X_train_features.shape[1:]  # Shape of the extracted features\n",
    "model_with_attention = build_model_with_attention(input_shape, len(class_names))\n",
    "\n",
    "# Compile the model\n",
    "model_with_attention.compile(optimizer='adam', loss='sparse_categorical_crossentropy', metrics=['accuracy'])\n",
    "\n",
    "# Train the model\n",
    "history = model_with_attention.fit(X_train_features, y_train,\n",
    "                                  validation_data=(X_val_features, y_val),\n",
    "                                  epochs=30,\n",
    "                                  verbose=1)\n"
   ]
  },
  {
   "cell_type": "code",
   "execution_count": 6,
   "id": "9a1c9c89-cea9-495c-b2b7-271502fde4ea",
   "metadata": {},
   "outputs": [
    {
     "name": "stdout",
     "output_type": "stream",
     "text": [
      "\u001b[1m24/24\u001b[0m \u001b[32m━━━━━━━━━━━━━━━━━━━━\u001b[0m\u001b[37m\u001b[0m \u001b[1m0s\u001b[0m 4ms/step - accuracy: 0.9744 - loss: 0.1116 \n",
      "Test Accuracy with Attention: 98.26%\n",
      "\u001b[1m24/24\u001b[0m \u001b[32m━━━━━━━━━━━━━━━━━━━━\u001b[0m\u001b[37m\u001b[0m \u001b[1m0s\u001b[0m 4ms/step \n",
      "Model with Attention Accuracy: 98.26%\n"
     ]
    }
   ],
   "source": [
    "# Evaluate the model\n",
    "test_loss, test_accuracy = model_with_attention.evaluate(X_test_features, y_test)\n",
    "print(f\"Test Accuracy with Attention: {test_accuracy * 100:.2f}%\")\n",
    "\n",
    "# Make predictions on the test set\n",
    "y_pred_attention = model_with_attention.predict(X_test_features)\n",
    "y_pred_attention = np.argmax(y_pred_attention, axis=1)\n",
    "\n",
    "# Evaluate the accuracy of the predictions\n",
    "accuracy_attention = accuracy_score(y_test, y_pred_attention)\n",
    "print(f\"Model with Attention Accuracy: {accuracy_attention * 100:.2f}%\")\n"
   ]
  },
  {
   "cell_type": "code",
   "execution_count": 7,
   "id": "681160b7-4ac7-4cf1-8b26-066197f74982",
   "metadata": {},
   "outputs": [
    {
     "name": "stdout",
     "output_type": "stream",
     "text": [
      "\n",
      "Plotting confusion matrix...\n"
     ]
    },
    {
     "data": {
      "image/png": "[encoded data removed]",
      "text/plain": [
       "<Figure size 800x600 with 2 Axes>"
      ]
     },
     "metadata": {},
     "output_type": "display_data"
    }
   ],
   "source": [
    "# Function to plot confusion matrix\n",
    "def plot_confusion_matrix(y_true, y_pred, class_names):\n",
    "    \"\"\"\n",
    "    Plot a confusion matrix using seaborn and matplotlib.\n",
    "    :param y_true: True labels.\n",
    "    :param y_pred: Predicted labels.\n",
    "    :param class_names: List of class names.\n",
    "    \"\"\"\n",
    "    cm = confusion_matrix(y_true, y_pred)\n",
    "    plt.figure(figsize=(8, 6))\n",
    "    sns.heatmap(cm, annot=True, fmt='d', cmap='Blues', xticklabels=class_names, yticklabels=class_names)\n",
    "    plt.title('Confusion Matrix')\n",
    "    plt.xlabel('Predicted')\n",
    "    plt.ylabel('True')\n",
    "    plt.show()\n",
    "\n",
    "# Plot the confusion matrix\n",
    "print(\"\\nPlotting confusion matrix...\")\n",
    "plot_confusion_matrix(y_test, y_pred_attention, class_names)"
   ]
  },
  {
   "cell_type": "code",
   "execution_count": 8,
   "id": "7985fd01-4502-4ca5-8004-628bbbe9980c",
   "metadata": {},
   "outputs": [
    {
     "name": "stdout",
     "output_type": "stream",
     "text": [
      "Overall Accuracy: 0.9826\n",
      "\n",
      "Classification Report:\n",
      "\n",
      "              precision    recall  f1-score   support\n",
      "\n",
      "       Brown       0.98      0.96      0.97       190\n",
      "      Mildew       0.95      1.00      0.97       155\n",
      "        Stem       0.99      0.99      0.99       212\n",
      "      Yellow       1.00      0.98      0.99       192\n",
      "\n",
      "    accuracy                           0.98       749\n",
      "   macro avg       0.98      0.98      0.98       749\n",
      "weighted avg       0.98      0.98      0.98       749\n",
      "\n"
     ]
    }
   ],
   "source": [
    "from sklearn.metrics import classification_report, accuracy_score\n",
    "\n",
    "# Compute accuracy\n",
    "accuracy = accuracy_score(y_test, y_pred_attention)\n",
    "\n",
    "# Compute classification report (includes precision, recall, F1-score)\n",
    "report = classification_report(y_test, y_pred_attention, target_names=class_names)\n",
    "\n",
    "# Display results\n",
    "print(f\"Overall Accuracy: {accuracy:.4f}\")\n",
    "print(\"\\nClassification Report:\\n\")\n",
    "print(report)\n",
    "\n"
   ]
  },
  {
   "cell_type": "code",
   "execution_count": 9,
   "id": "2d3a2792-bcdb-491a-a4e7-854cadd1cf6f",
   "metadata": {},
   "outputs": [
    {
     "name": "stdout",
     "output_type": "stream",
     "text": [
      ":)\n"
     ]
    }
   ],
   "source": [
    "print(\":)\")"
   ]
  },
  {
   "cell_type": "code",
   "execution_count": 12,
   "id": "e2cdb71b-d08f-4400-8757-d33dddcfb450",
   "metadata": {},
   "outputs": [
    {
     "name": "stderr",
     "output_type": "stream",
     "text": [
      "WARNING:absl:You are saving your model as an HDF5 file via `model.save()` or `keras.saving.save_model(model)`. This file format is considered legacy. We recommend using instead the native Keras format, e.g. `model.save('my_model.keras')` or `keras.saving.save_model(model, 'my_model.keras')`. \n"
     ]
    },
    {
     "name": "stdout",
     "output_type": "stream",
     "text": [
      "Model saved to C:\\Users\\VECTUS\\OneDrive\\Desktop\\Imp\\m3.h5\n"
     ]
    }
   ],
   "source": [
    "from tensorflow.keras.models import save_model\n",
    "# Save the final model\n",
    "model_save_path = r\"C:\\Users\\VECTUS\\OneDrive\\Desktop\\Imp\\m3.h5\"  # Change this to your desired save path\n",
    "model_with_attention.save(model_save_path)\n",
    "print(f\"Model saved to {model_save_path}\")"
   ]
  },
  {
   "cell_type": "code",
   "execution_count": null,
   "id": "351a7b49-2848-4939-a390-41460de3a9d5",
   "metadata": {},
   "outputs": [],
   "source": []
  },
  {
   "cell_type": "code",
   "execution_count": null,
   "id": "27212eaa-6e98-40cc-98a6-9e89d61abdc9",
   "metadata": {},
   "outputs": [],
   "source": []
  },
  {
   "cell_type": "code",
   "execution_count": null,
   "id": "b129d33b-0719-4981-91d4-c11a768b7b7c",
   "metadata": {},
   "outputs": [],
   "source": []
  }
 ],
 "metadata": {
  "kernelspec": {
   "display_name": "amira",
   "language": "python",
   "name": "amira"
  },
  "language_info": {
   "codemirror_mode": {
    "name": "ipython",
    "version": 3
   },
   "file_extension": ".py",
   "mimetype": "text/x-python",
   "name": "python",
   "nbconvert_exporter": "python",
   "pygments_lexer": "ipython3",
   "version": "3.11.0"
  }
 },
 "nbformat": 4,
 "nbformat_minor": 5
}
