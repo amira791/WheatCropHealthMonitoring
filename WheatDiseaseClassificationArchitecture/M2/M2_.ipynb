{
 "cells": [
  {
   "cell_type": "markdown",
   "id": "1ae5b6e6-dc3b-4e0e-9fc5-a7314a46dcfb",
   "metadata": {},
   "source": [
    "# Model 2"
   ]
  },
  {
   "cell_type": "markdown",
   "id": "ec465962-e787-43a3-b1a0-673dae4eb071",
   "metadata": {},
   "source": [
    "### Model 2: Binary Classification for Disease Type  \n",
    "\n",
    "Model 5 (M5) is a binary classification model that distinguishes between two main categories of wheat diseases:  \n",
    "\n",
    "- **Rust Diseases** 🍂 (Brown Rust, Yellow Rust, Stem Rust, Mildew)  \n",
    "- **Other Diseases** 🌾 (Fusarium, Loose Smut, Septoria, Common Root Rot)  \n",
    "\n",
    "This model helps in the initial classification of wheat diseases, directing further analysis to the appropriate specialized model.\n"
   ]
  },
  {
   "cell_type": "code",
   "execution_count": 1,
   "id": "48100c92-5073-4cb3-9704-54db8464d1ae",
   "metadata": {},
   "outputs": [],
   "source": [
    "import torch\n",
    "import torch.nn as nn\n",
    "import torch.optim as optim\n",
    "import torchvision.transforms as transforms\n",
    "import torchvision.models as models\n",
    "from torch.utils.data import DataLoader, Dataset\n",
    "from PIL import Image\n",
    "import os\n",
    "import random\n",
    "import matplotlib.pyplot as plt\n",
    "import seaborn as sns\n",
    "from sklearn.metrics import confusion_matrix, classification_report\n",
    "import numpy as np"
   ]
  },
  {
   "cell_type": "code",
   "execution_count": 2,
   "id": "c24d0d97-32ba-45d3-8fdc-d13d788d82a3",
   "metadata": {},
   "outputs": [],
   "source": [
    "# Define Dataset Class\n",
    "class WheatDataset(Dataset):\n",
    "    def __init__(self, image_paths, labels, transform=None):\n",
    "        self.image_paths = image_paths\n",
    "        self.labels = labels\n",
    "        self.transform = transform\n",
    "\n",
    "    def __len__(self):\n",
    "        return len(self.image_paths)\n",
    "\n",
    "    def __getitem__(self, idx):\n",
    "        img_path = self.image_paths[idx]\n",
    "        image = Image.open(img_path).convert(\"RGB\")\n",
    "        label = self.labels[idx]\n",
    "\n",
    "        if self.transform:\n",
    "            image = self.transform(image)\n",
    "\n",
    "        return image, label"
   ]
  },
  {
   "cell_type": "code",
   "execution_count": 3,
   "id": "9030350c-2f74-49c9-aea7-8b7185a2f851",
   "metadata": {},
   "outputs": [],
   "source": [
    "# Data Preprocessing\n",
    "transform = transforms.Compose([\n",
    "    transforms.Resize((224, 224)),\n",
    "    transforms.RandomHorizontalFlip(),\n",
    "    transforms.RandomRotation(10),\n",
    "    transforms.ToTensor(),\n",
    "    transforms.Normalize(mean=[0.485, 0.456, 0.406], std=[0.229, 0.224, 0.225])\n",
    "])"
   ]
  },
  {
   "cell_type": "code",
   "execution_count": 4,
   "id": "da2dbc20-87ec-46d4-8113-b5c39b9255bd",
   "metadata": {},
   "outputs": [],
   "source": [
    "# Load Dataset and Split into Train/Test\n",
    "def load_data(data_dir, train_split=0.8):\n",
    "    \"\"\"\n",
    "    Load dataset and split into train and test.\n",
    "    :param data_dir: Path to dataset where folders represent classes.\n",
    "    :param train_split: Ratio of training data (default: 80% train, 20% test).\n",
    "    :return: Train and test datasets.\n",
    "    \"\"\"\n",
    "    classes = sorted(os.listdir(data_dir))  # Get class names\n",
    "    image_paths = []\n",
    "    labels = []\n",
    "    class_to_idx = {cls: idx for idx, cls in enumerate(classes)}\n",
    "\n",
    "    for cls in classes:\n",
    "        class_path = os.path.join(data_dir, cls)\n",
    "        if not os.path.isdir(class_path):\n",
    "            continue  # Skip non-directory files\n",
    "        for img_name in os.listdir(class_path):\n",
    "            img_path = os.path.join(class_path, img_name)\n",
    "            image_paths.append(img_path)\n",
    "            labels.append(class_to_idx[cls])\n",
    "\n",
    "    # Shuffle the dataset\n",
    "    dataset = list(zip(image_paths, labels))\n",
    "    random.shuffle(dataset)\n",
    "    image_paths, labels = zip(*dataset)\n",
    "\n",
    "    # Split into train and test\n",
    "    train_size = int(train_split * len(image_paths))\n",
    "    train_images, test_images = image_paths[:train_size], image_paths[train_size:]\n",
    "    train_labels, test_labels = labels[:train_size], labels[train_size:]\n",
    "\n",
    "    return train_images, train_labels, test_images, test_labels, class_to_idx"
   ]
  },
  {
   "cell_type": "code",
   "execution_count": 5,
   "id": "de3a1196-0b3b-41c5-9ee7-5890c01d4ec5",
   "metadata": {},
   "outputs": [],
   "source": [
    "# Load Data\n",
    "dataset_path = r\"C:\\Users\\VECTUS\\OneDrive\\Desktop\\Imp\\D222\"  # Update this with your dataset path\n",
    "train_images, train_labels, test_images, test_labels, class_to_idx = load_data(dataset_path)\n",
    "\n",
    "train_dataset = WheatDataset(train_images, train_labels, transform=transform)\n",
    "test_dataset = WheatDataset(test_images, test_labels, transform=transform)\n",
    "\n",
    "train_loader = DataLoader(train_dataset, batch_size=16, shuffle=True)\n",
    "test_loader = DataLoader(test_dataset, batch_size=16, shuffle=False)"
   ]
  },
  {
   "cell_type": "code",
   "execution_count": 6,
   "id": "a1753fa7-1b45-47a0-bfee-abe4a083a11e",
   "metadata": {},
   "outputs": [],
   "source": [
    "\n",
    "# Feature Extractor (EfficientNet)\n",
    "class FeatureExtractor(nn.Module):\n",
    "    def __init__(self):\n",
    "        super(FeatureExtractor, self).__init__()\n",
    "        self.efficient_net = models.efficientnet_b0(pretrained=True)\n",
    "        self.efficient_net.classifier = nn.Identity()  # Remove last layer\n",
    "\n",
    "    def forward(self, x):\n",
    "        return self.efficient_net(x)"
   ]
  },
  {
   "cell_type": "code",
   "execution_count": 7,
   "id": "3a6953b2-7f04-4908-9727-0d21416e94b9",
   "metadata": {},
   "outputs": [],
   "source": [
    "class AttentionModule(nn.Module):\n",
    "    def __init__(self, feature_dim):\n",
    "        super(AttentionModule, self).__init__()\n",
    "        self.W1 = nn.Linear(feature_dim, feature_dim)\n",
    "        self.W2 = nn.Linear(feature_dim, feature_dim)\n",
    "        self.omega_x = nn.Parameter(torch.rand(feature_dim))\n",
    "        self.omega_y = nn.Parameter(torch.rand(feature_dim))\n",
    "        self.omega_xy = nn.Parameter(torch.rand(feature_dim))\n",
    "\n",
    "    def forward(self, support, query):\n",
    "        s = torch.relu(self.W1(support))\n",
    "        q = torch.relu(self.W2(query))\n",
    "        similarity = torch.sum(self.omega_x * s + self.omega_y * q + self.omega_xy * (s * q), dim=-1)\n",
    "\n",
    "        # Ensure output matches EfficientNet feature size (1280)\n",
    "        output = torch.relu(self.W1(support) + self.W2(query))\n",
    "        return output  # Output must be (batch_size, 1280)"
   ]
  },
  {
   "cell_type": "code",
   "execution_count": 8,
   "id": "8958baea-cdba-4ca7-bf9a-baea52fe91de",
   "metadata": {},
   "outputs": [],
   "source": [
    "# Few-Shot Learning Network\n",
    "class FewShotNetwork(nn.Module):\n",
    "    def __init__(self, feature_dim=1280, num_classes=4):\n",
    "        super(FewShotNetwork, self).__init__()\n",
    "        self.feature_extractor = FeatureExtractor()\n",
    "        self.attention = AttentionModule(feature_dim)\n",
    "        self.fc = nn.Linear(feature_dim, num_classes)\n",
    "\n",
    "    def forward(self, support, query):\n",
    "        support_features = self.feature_extractor(support)\n",
    "        query_features = self.feature_extractor(query)\n",
    "        similarity = self.attention(support_features, query_features)\n",
    "        output = self.fc(similarity)\n",
    "        return output\n"
   ]
  },
  {
   "cell_type": "code",
   "execution_count": 9,
   "id": "da6523e5-536e-42bd-97f8-c8d3b4e8ea03",
   "metadata": {},
   "outputs": [
    {
     "name": "stderr",
     "output_type": "stream",
     "text": [
      "C:\\Users\\VECTUS\\AppData\\Local\\Programs\\Python\\Python311\\Lib\\site-packages\\torchvision\\models\\_utils.py:208: UserWarning: The parameter 'pretrained' is deprecated since 0.13 and may be removed in the future, please use 'weights' instead.\n",
      "  warnings.warn(\n",
      "C:\\Users\\VECTUS\\AppData\\Local\\Programs\\Python\\Python311\\Lib\\site-packages\\torchvision\\models\\_utils.py:223: UserWarning: Arguments other than a weight enum or `None` for 'weights' are deprecated since 0.13 and may be removed in the future. The current behavior is equivalent to passing `weights=EfficientNet_B0_Weights.IMAGENET1K_V1`. You can also use `weights=EfficientNet_B0_Weights.DEFAULT` to get the most up-to-date weights.\n",
      "  warnings.warn(msg)\n"
     ]
    }
   ],
   "source": [
    "# Model Training\n",
    "device = torch.device(\"cuda\" if torch.cuda.is_available() else \"cpu\")\n",
    "model = FewShotNetwork().to(device)\n",
    "criterion = nn.CrossEntropyLoss()\n",
    "optimizer = optim.Adam(model.parameters(), lr=0.0001, weight_decay=1e-5)\n",
    "scheduler = torch.optim.lr_scheduler.StepLR(optimizer, step_size=5, gamma=0.5)"
   ]
  },
  {
   "cell_type": "code",
   "execution_count": 10,
   "id": "eda47da7-c25b-43bc-950a-9654380a1f16",
   "metadata": {},
   "outputs": [
    {
     "name": "stdout",
     "output_type": "stream",
     "text": [
      "Epoch [1/20], Loss: 0.2813\n",
      "Epoch [2/20], Loss: 0.1444\n",
      "Epoch [3/20], Loss: 0.0913\n",
      "Epoch [4/20], Loss: 0.0752\n",
      "Epoch [5/20], Loss: 0.0577\n",
      "Epoch [6/20], Loss: 0.0550\n",
      "Epoch [7/20], Loss: 0.0474\n",
      "Epoch [8/20], Loss: 0.0383\n",
      "Epoch [9/20], Loss: 0.0300\n",
      "Epoch [10/20], Loss: 0.0400\n",
      "Epoch [11/20], Loss: 0.0442\n",
      "Epoch [12/20], Loss: 0.0298\n",
      "Epoch [13/20], Loss: 0.0217\n",
      "Epoch [14/20], Loss: 0.0256\n",
      "Epoch [15/20], Loss: 0.0263\n",
      "Epoch [16/20], Loss: 0.0222\n",
      "Epoch [17/20], Loss: 0.0144\n",
      "Epoch [18/20], Loss: 0.0256\n",
      "Epoch [19/20], Loss: 0.0348\n",
      "Epoch [20/20], Loss: 0.0194\n"
     ]
    }
   ],
   "source": [
    "# Training Loop\n",
    "def train_model(model, train_loader, num_epochs=20):\n",
    "    model.train()\n",
    "    for epoch in range(num_epochs):\n",
    "        total_loss = 0\n",
    "        for images, labels in train_loader:\n",
    "            images, labels = images.to(device), labels.to(device)\n",
    "\n",
    "            optimizer.zero_grad()\n",
    "            outputs = model(images, images)  # Support and Query Set (same for now)\n",
    "            loss = criterion(outputs, labels)\n",
    "            loss.backward()\n",
    "            optimizer.step()\n",
    "\n",
    "            total_loss += loss.item()\n",
    "\n",
    "        print(f\"Epoch [{epoch+1}/{num_epochs}], Loss: {total_loss / len(train_loader):.4f}\")\n",
    "\n",
    "train_model(model, train_loader)"
   ]
  },
  {
   "cell_type": "code",
   "execution_count": null,
   "id": "92c8a3fa-83b8-4b83-aa17-56eec1b74f96",
   "metadata": {},
   "outputs": [],
   "source": []
  },
  {
   "cell_type": "code",
   "execution_count": 12,
   "id": "37f39ac6-4e67-4969-8ac4-914b40757fdc",
   "metadata": {},
   "outputs": [
    {
     "name": "stdout",
     "output_type": "stream",
     "text": [
      "Test Accuracy: 97.17%\n"
     ]
    },
    {
     "data": {
      "image/png": "[encoded data removed]",
      "text/plain": [
       "<Figure size 800x600 with 2 Axes>"
      ]
     },
     "metadata": {},
     "output_type": "display_data"
    }
   ],
   "source": [
    "def evaluate_model(model, test_loader):\n",
    "    model.eval()\n",
    "    correct = 0\n",
    "    total = 0\n",
    "    all_labels = []\n",
    "    all_predictions = []\n",
    "\n",
    "    with torch.no_grad():\n",
    "        for images, labels in test_loader:\n",
    "            images, labels = images.to(device), labels.to(device)\n",
    "\n",
    "            # Pass two inputs if required\n",
    "            outputs = model(images, images)  # Check if this matches your model's expected inputs\n",
    "            _, predicted = torch.max(outputs, 1)\n",
    "\n",
    "            correct += (predicted == labels).sum().item()\n",
    "            total += labels.size(0)\n",
    "\n",
    "            all_labels.extend(labels.cpu().numpy())\n",
    "            all_predictions.extend(predicted.cpu().numpy())\n",
    "\n",
    "    accuracy = 100 * correct / total\n",
    "    print(f\"Test Accuracy: {accuracy:.2f}%\")\n",
    "\n",
    "    # Compute and display confusion matrix\n",
    "    cm = confusion_matrix(all_labels, all_predictions)\n",
    "    plt.figure(figsize=(8, 6))\n",
    "    sns.heatmap(cm, annot=True, fmt='d', cmap='Blues')\n",
    "    plt.xlabel(\"Predicted Label\")\n",
    "    plt.ylabel(\"True Label\")\n",
    "    plt.title(\"Confusion Matrix\")\n",
    "    plt.show()\n",
    "\n",
    "# Call function\n",
    "evaluate_model(model, test_loader)"
   ]
  },
  {
   "cell_type": "code",
   "execution_count": 13,
   "id": "17f62ab7-2744-4b9e-bbd7-886da8483f0d",
   "metadata": {},
   "outputs": [
    {
     "name": "stdout",
     "output_type": "stream",
     "text": [
      "Model saved successfully!\n"
     ]
    }
   ],
   "source": [
    "# Save the entire model\n",
    "torch.save(model.state_dict(), \"model2.pth\")\n",
    "print(\"Model saved successfully!\")\n"
   ]
  },
  {
   "cell_type": "code",
   "execution_count": null,
   "id": "85806f42-edb5-412a-bd3a-b472a79de62b",
   "metadata": {},
   "outputs": [],
   "source": []
  }
 ],
 "metadata": {
  "kernelspec": {
   "display_name": "amira",
   "language": "python",
   "name": "amira"
  },
  "language_info": {
   "codemirror_mode": {
    "name": "ipython",
    "version": 3
   },
   "file_extension": ".py",
   "mimetype": "text/x-python",
   "name": "python",
   "nbconvert_exporter": "python",
   "pygments_lexer": "ipython3",
   "version": "3.11.0"
  }
 },
 "nbformat": 4,
 "nbformat_minor": 5
}
