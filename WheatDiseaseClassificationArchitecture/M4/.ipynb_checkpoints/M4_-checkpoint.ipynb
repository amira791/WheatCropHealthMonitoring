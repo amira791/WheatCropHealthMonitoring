{
 "cells": [
  {
   "cell_type": "markdown",
   "id": "5d38bebb-dcd1-4adf-b2eb-bc76836ea9bc",
   "metadata": {},
   "source": [
    "# Model 04"
   ]
  },
  {
   "cell_type": "markdown",
   "id": "eed7047c-cbe0-48e2-a9ea-d6c5f934b470",
   "metadata": {},
   "source": [
    "### Model 2: Multi-Class Classification for Other Wheat Diseases  \n",
    "\n",
    "Model 2 (M2) is a multi-class classification model that focuses on identifying **other wheat diseases** beyond rust. It categorizes the disease into four classes:  \n",
    "\n",
    "- **Fusarium** 🌾🔴  \n",
    "- **Loose Smut** 🌾⚫  \n",
    "- **Septoria** 🍃🟢  \n",
    "- **Common Root Rot** 🌱🟤  \n",
    "\n",
    "This model helps in accurately detecting and differentiating these diseases, supporting early intervention and effective crop management.\n"
   ]
  },
  {
   "cell_type": "code",
   "execution_count": 2,
   "id": "dcd9d43b-39f4-4914-af14-5169dc9b54aa",
   "metadata": {},
   "outputs": [
    {
     "name": "stdout",
     "output_type": "stream",
     "text": [
      "Class distribution in the dataset:\n",
      "Common Root Rot: 150 images\n",
      "Fusarium: 230 images\n",
      "Loose Smut: 251 images\n",
      "Septoria: 890 images\n",
      "\n",
      "Train set: 2136 images\n",
      "Validation set: 712 images\n",
      "Test set: 712 images\n",
      "\n",
      "Data generators are ready for training, validation, and testing.\n"
     ]
    }
   ],
   "source": [
    "#import necessaire libraries \n",
    "import os\n",
    "import numpy as np\n",
    "import tensorflow as tf\n",
    "from sklearn.model_selection import train_test_split\n",
    "from tensorflow.keras.preprocessing.image import ImageDataGenerator\n",
    "from imblearn.combine import SMOTETomek\n",
    "from tensorflow.keras.preprocessing import image\n",
    "from collections import Counter\n",
    "\n",
    "# Set dataset paths\n",
    "DATASET_PATH = r\"C:\\Users\\VECTUS\\OneDrive\\Desktop\\Imp\\D4\"  # Change this to your dataset directory\n",
    "IMG_SIZE = (224, 224)  # Standard size for CNNs (EfficientNet, ResNet)\n",
    "BATCH_SIZE = 32\n",
    "\n",
    "# Function to load images and labels from directory\n",
    "def load_dataset(dataset_path, img_size):\n",
    "    images = []\n",
    "    labels = []\n",
    "    class_names = sorted(os.listdir(dataset_path))\n",
    "    class_counts = {class_name: 0 for class_name in class_names}  # To count images per class\n",
    "    \n",
    "    for class_name in class_names:\n",
    "        class_path = os.path.join(dataset_path, class_name)\n",
    "        for img_name in os.listdir(class_path):\n",
    "            img_path = os.path.join(class_path, img_name)\n",
    "            img = image.load_img(img_path, target_size=img_size)\n",
    "            img_array = image.img_to_array(img)\n",
    "            images.append(img_array)\n",
    "            labels.append(class_names.index(class_name))\n",
    "            class_counts[class_name] += 1  # Increment count for this class\n",
    "    \n",
    "    return np.array(images), np.array(labels), class_names, class_counts\n",
    "\n",
    "# Load the dataset\n",
    "X_data, y_data, class_names, class_counts = load_dataset(DATASET_PATH, IMG_SIZE)\n",
    "\n",
    "# Display class names and number of images in each class\n",
    "print(\"Class distribution in the dataset:\")\n",
    "for class_name, count in class_counts.items():\n",
    "    print(f\"{class_name}: {count} images\")\n",
    "\n",
    "# Apply SMOTE and Tomek Links for balancing\n",
    "smote_tomek = SMOTETomek(random_state=42)\n",
    "X_balanced, y_balanced = smote_tomek.fit_resample(X_data.reshape(X_data.shape[0], -1), y_data)\n",
    "X_balanced = X_balanced.reshape(-1, IMG_SIZE[0], IMG_SIZE[1], 3)\n",
    "\n",
    "# Split the balanced data into train, validation, and test sets\n",
    "X_train, X_temp, y_train, y_temp = train_test_split(X_balanced, y_balanced, train_size=0.6, random_state=42)\n",
    "X_val, X_test, y_val, y_test = train_test_split(X_temp, y_temp, test_size=0.5, random_state=42)\n",
    "\n",
    "print(f\"\\nTrain set: {len(X_train)} images\")\n",
    "print(f\"Validation set: {len(X_val)} images\")\n",
    "print(f\"Test set: {len(X_test)} images\")\n",
    "\n",
    "# Create new ImageDataGenerators for training, validation, and testing with the respective data\n",
    "train_datagen = ImageDataGenerator(rescale=1.0 / 255)\n",
    "val_datagen = ImageDataGenerator(rescale=1.0 / 255)\n",
    "test_datagen = ImageDataGenerator(rescale=1.0 / 255)\n",
    "\n",
    "# Use the `flow` method to load the data into the generator\n",
    "train_generator = train_datagen.flow(X_train, y_train, batch_size=BATCH_SIZE)\n",
    "val_generator = val_datagen.flow(X_val, y_val, batch_size=BATCH_SIZE)\n",
    "test_generator = test_datagen.flow(X_test, y_test, batch_size=BATCH_SIZE)\n",
    "\n",
    "print(\"\\nData generators are ready for training, validation, and testing.\")"
   ]
  },
  {
   "cell_type": "code",
   "execution_count": 12,
   "id": "18669073-a749-4a34-826a-1559ca2d4271",
   "metadata": {},
   "outputs": [
    {
     "name": "stdout",
     "output_type": "stream",
     "text": [
      "\n",
      "Extracting features for the train set...\n",
      "\u001b[1m67/67\u001b[0m \u001b[32m━━━━━━━━━━━━━━━━━━━━\u001b[0m\u001b[37m\u001b[0m \u001b[1m26s\u001b[0m 354ms/step\n",
      "Extracting features for the validation set...\n",
      "\u001b[1m23/23\u001b[0m \u001b[32m━━━━━━━━━━━━━━━━━━━━\u001b[0m\u001b[37m\u001b[0m \u001b[1m7s\u001b[0m 297ms/step\n",
      "Extracting features for the test set...\n",
      "\u001b[1m23/23\u001b[0m \u001b[32m━━━━━━━━━━━━━━━━━━━━\u001b[0m\u001b[37m\u001b[0m \u001b[1m7s\u001b[0m 295ms/step\n"
     ]
    }
   ],
   "source": [
    "# Function to extract features using a pre-trained model\n",
    "from tensorflow.keras.applications import EfficientNetB0\n",
    "from tensorflow.keras.models import Model\n",
    "def extract_features(images, model):\n",
    "    \"\"\"\n",
    "    Extract features from images using a pre-trained model.\n",
    "    :param images: Input images (numpy array).\n",
    "    :param model: Pre-trained model for feature extraction.\n",
    "    :return: Extracted features (numpy array).\n",
    "    \"\"\"\n",
    "    features = model.predict(images, verbose=1)\n",
    "    return features\n",
    "\n",
    "# Load a pre-trained model (EfficientNetB0) without the top classification layer\n",
    "base_model = EfficientNetB0(weights='imagenet', include_top=False, pooling='avg')\n",
    "\n",
    "# Extract features for train, validation, and test sets\n",
    "print(\"\\nExtracting features for the train set...\")\n",
    "X_train_features = extract_features(X_train, base_model)\n",
    "\n",
    "print(\"Extracting features for the validation set...\")\n",
    "X_val_features = extract_features(X_val, base_model)\n",
    "\n",
    "print(\"Extracting features for the test set...\")\n",
    "X_test_features = extract_features(X_test, base_model)"
   ]
  },
  {
   "cell_type": "code",
   "execution_count": 13,
   "id": "da51d743-c2a6-4781-acda-6ee673dc38ff",
   "metadata": {},
   "outputs": [],
   "source": [
    "from sklearn.ensemble import VotingClassifier\n",
    "from sklearn.svm import SVC\n",
    "from sklearn.ensemble import RandomForestClassifier\n",
    "from sklearn.metrics import accuracy_score\n",
    "def make_predictions(X_train, y_train, X_test):\n",
    "    \"\"\"\n",
    "    Make predictions using an ensemble of classifiers.\n",
    "    :param X_train: Training features.\n",
    "    :param y_train: Training labels.\n",
    "    :param X_test: Test features.\n",
    "    :return: Ensemble predictions.\n",
    "    \"\"\"\n",
    "    # Define individual classifiers\n",
    "    svm = SVC(probability=True, random_state=42)\n",
    "    rf = RandomForestClassifier(n_estimators=100, random_state=42)\n",
    "    \n",
    "    # Create an ensemble model using VotingClassifier\n",
    "    ensemble = VotingClassifier(estimators=[\n",
    "        ('svm', svm),\n",
    "        ('rf', rf),\n",
    "    ], voting='soft')  # 'soft' for probability-based voting\n",
    "    \n",
    "    # Train the ensemble model\n",
    "    ensemble.fit(X_train, y_train)\n",
    "    \n",
    "    # Make predictions\n",
    "    predictions = ensemble.predict(X_test)\n",
    "    return predictions, ensemble"
   ]
  },
  {
   "cell_type": "code",
   "execution_count": 14,
   "id": "b5bfff29-e9de-4ab4-a505-ca49660b6c3e",
   "metadata": {},
   "outputs": [
    {
     "name": "stdout",
     "output_type": "stream",
     "text": [
      "\n",
      "Making predictions using ensemble learning...\n"
     ]
    }
   ],
   "source": [
    "# Make predictions on the test set\n",
    "print(\"\\nMaking predictions using ensemble learning...\")\n",
    "y_pred, ensemble = make_predictions(X_train_features, y_train, X_test_features) "
   ]
  },
  {
   "cell_type": "code",
   "execution_count": 15,
   "id": "8a3a608d-8e49-40a5-bde6-7846cea0d5b3",
   "metadata": {},
   "outputs": [
    {
     "name": "stdout",
     "output_type": "stream",
     "text": [
      "Ensemble model accuracy: 99.58%\n"
     ]
    }
   ],
   "source": [
    "# Evaluate the accuracy of the predictions\n",
    "accuracy = accuracy_score(y_test, y_pred)\n",
    "print(f\"Ensemble model accuracy: {accuracy * 100:.2f}%\")"
   ]
  },
  {
   "cell_type": "code",
   "execution_count": 16,
   "id": "718ced63-20ac-4456-af03-0b2136f89c81",
   "metadata": {},
   "outputs": [
    {
     "name": "stdout",
     "output_type": "stream",
     "text": [
      "\n",
      "Plotting confusion matrix...\n"
     ]
    },
    {
     "data": {
      "image/png": "[encoded data removed]",
      "text/plain": [
       "<Figure size 800x600 with 2 Axes>"
      ]
     },
     "metadata": {},
     "output_type": "display_data"
    }
   ],
   "source": [
    "# Function to plot confusion matrix\n",
    "from sklearn.metrics import accuracy_score, confusion_matrix\n",
    "import matplotlib.pyplot as plt\n",
    "import seaborn as sns\n",
    "def plot_confusion_matrix(y_true, y_pred, class_names):\n",
    "    \"\"\"\n",
    "    Plot a confusion matrix using seaborn and matplotlib.\n",
    "    :param y_true: True labels.\n",
    "    :param y_pred: Predicted labels.\n",
    "    :param class_names: List of class names.\n",
    "    \"\"\"\n",
    "    cm = confusion_matrix(y_true, y_pred)\n",
    "    plt.figure(figsize=(8, 6))\n",
    "    sns.heatmap(cm, annot=True, fmt='d', cmap='Blues', xticklabels=class_names, yticklabels=class_names)\n",
    "    plt.title('Confusion Matrix')\n",
    "    plt.xlabel('Predicted')\n",
    "    plt.ylabel('True')\n",
    "    plt.show()\n",
    "\n",
    "# Plot the confusion matrix\n",
    "print(\"\\nPlotting confusion matrix...\")\n",
    "plot_confusion_matrix(y_test, y_pred, class_names)"
   ]
  },
  {
   "cell_type": "code",
   "execution_count": 7,
   "id": "4f4cbc9a-e406-4f70-8f57-0a31048706c8",
   "metadata": {},
   "outputs": [
    {
     "name": "stdout",
     "output_type": "stream",
     "text": [
      "Requirement already satisfied: joblib in c:\\users\\vectus\\appdata\\local\\programs\\python\\python311\\lib\\site-packages (1.4.2)\n"
     ]
    },
    {
     "name": "stderr",
     "output_type": "stream",
     "text": [
      "\n",
      "[notice] A new release of pip is available: 24.3.1 -> 25.0.1\n",
      "[notice] To update, run: python.exe -m pip install --upgrade pip\n"
     ]
    }
   ],
   "source": [
    "!pip install joblib"
   ]
  },
  {
   "cell_type": "code",
   "execution_count": 17,
   "id": "3efe1412-e25b-43ce-86dd-f6f364b8901c",
   "metadata": {},
   "outputs": [
    {
     "name": "stdout",
     "output_type": "stream",
     "text": [
      "Ensemble model saved as 'ensemble_model.pkl'\n"
     ]
    }
   ],
   "source": [
    "import joblib\n",
    "\n",
    "# Save the ensemble model\n",
    "joblib.dump(ensemble, \"m4.pkl\")\n",
    "print(\"Ensemble model saved as 'ensemble_model.pkl'\")"
   ]
  },
  {
   "cell_type": "code",
   "execution_count": 18,
   "id": "7c63cb05-f8e0-4acb-99e2-015e84dc08d4",
   "metadata": {},
   "outputs": [
    {
     "name": "stdout",
     "output_type": "stream",
     "text": [
      "Overall Accuracy: 0.9958\n",
      "\n",
      "Classification Report:\n",
      "\n",
      "                 precision    recall  f1-score   support\n",
      "\n",
      "Common Root Rot       1.00      0.99      1.00       171\n",
      "       Fusarium       0.98      1.00      0.99       189\n",
      "     Loose Smut       1.00      0.99      1.00       176\n",
      "       Septoria       1.00      0.99      1.00       176\n",
      "\n",
      "       accuracy                           1.00       712\n",
      "      macro avg       1.00      1.00      1.00       712\n",
      "   weighted avg       1.00      1.00      1.00       712\n",
      "\n"
     ]
    }
   ],
   "source": [
    "from sklearn.metrics import classification_report, accuracy_score\n",
    "\n",
    "# Compute accuracy\n",
    "accuracy = accuracy_score(y_test, y_pred)\n",
    "\n",
    "# Compute classification report (includes precision, recall, F1-score)\n",
    "report = classification_report(y_test, y_pred, target_names=class_names)\n",
    "\n",
    "# Display results\n",
    "print(f\"Overall Accuracy: {accuracy:.4f}\")\n",
    "print(\"\\nClassification Report:\\n\")\n",
    "print(report)"
   ]
  },
  {
   "cell_type": "code",
   "execution_count": null,
   "id": "3719cc15-20b9-4868-b4e1-8707dd2c3213",
   "metadata": {},
   "outputs": [],
   "source": []
  }
 ],
 "metadata": {
  "kernelspec": {
   "display_name": "amira",
   "language": "python",
   "name": "amira"
  },
  "language_info": {
   "codemirror_mode": {
    "name": "ipython",
    "version": 3
   },
   "file_extension": ".py",
   "mimetype": "text/x-python",
   "name": "python",
   "nbconvert_exporter": "python",
   "pygments_lexer": "ipython3",
   "version": "3.11.0"
  }
 },
 "nbformat": 4,
 "nbformat_minor": 5
}
